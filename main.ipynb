{
 "cells": [
  {
   "cell_type": "code",
   "execution_count": null,
   "source": [
    "import numpy as np \r\n",
    "import pandas as pd \r\n",
    "import gmaps \r\n",
    "import gmaps.datasets\r\n",
    "\r\n",
    "import time\r\n",
    "\r\n",
    "while(True):\r\n",
    "    df = pd.read_json(\"http://iub.doublemap.com/map/v2/buses\")\r\n",
    "    df.to_csv('bus_data.csv', mode='a', header=False)\r\n",
    "    time.sleep(1)\r\n"
   ],
   "outputs": [],
   "metadata": {}
  },
  {
   "cell_type": "code",
   "execution_count": 37,
   "source": [
    "df = pd.read_csv(\"bus_data.csv\")\r\n",
    "df.head()\r\n",
    "df.loc[df['id'] == 657]\r\n",
    "bloomington_coordinates = (39.169703,  -86.518805)\r\n",
    "locations = df[[\"lat\", \"long\"]]\r\n",
    "instances = df['lastUpdated']\r\n",
    "fig = gmaps.figure(center=bloomington_coordinates, zoom_level=13)\r\n",
    "fig.add_layer(gmaps.heatmap_layer(locations, weights=instances))\r\n",
    "fig\r\n"
   ],
   "outputs": [
    {
     "output_type": "display_data",
     "data": {
      "application/vnd.jupyter.widget-view+json": {
       "version_major": 2,
       "version_minor": 0,
       "model_id": "eaa7e63c2cf64f9b96fc9a49e5460678"
      },
      "text/plain": [
       "Figure(layout=FigureLayout(height='420px'))"
      ]
     },
     "metadata": {}
    }
   ],
   "metadata": {}
  }
 ],
 "metadata": {
  "orig_nbformat": 4,
  "language_info": {
   "name": "python",
   "version": "3.7.7",
   "mimetype": "text/x-python",
   "codemirror_mode": {
    "name": "ipython",
    "version": 3
   },
   "pygments_lexer": "ipython3",
   "nbconvert_exporter": "python",
   "file_extension": ".py"
  },
  "kernelspec": {
   "name": "python3",
   "display_name": "Python 3.7.7 64-bit ('base': conda)"
  },
  "interpreter": {
   "hash": "a5b7aeff42ba6761a280498ade45e749cf5f5c1a448f52619a139fff18264354"
  }
 },
 "nbformat": 4,
 "nbformat_minor": 2
}